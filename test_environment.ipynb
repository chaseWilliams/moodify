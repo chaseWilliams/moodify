{
 "cells": [
  {
   "cell_type": "code",
   "execution_count": 1,
   "metadata": {
    "collapsed": false
   },
   "outputs": [],
   "source": [
    "%matplotlib inline\n",
    "import requests as http\n",
    "import pandas as pd\n",
    "import numpy as np\n",
    "import matplotlib.pyplot as plt\n",
    "import seaborn as sns\n",
    "from collections import Counter\n",
    "import lib.lastfm as lastfm\n",
    "import lib.curator as curator\n",
    "from lib.spotify import User\n",
    "import time\n",
    "import calendar\n",
    "import datetime\n",
    "import re\n",
    "import unicodedata\n",
    "import importlib\n",
    "import requests as http\n",
    "import json\n",
    "import uuid"
   ]
  },
  {
   "cell_type": "code",
   "execution_count": 2,
   "metadata": {
    "collapsed": false
   },
   "outputs": [],
   "source": [
    "# pass a dictionary with format characteristic: feature: params or None\n",
    "filters = {\n",
    "    'count': None,\n",
    "    'tags': None,\n",
    "    'timeslice': None,\n",
    "    'popularity': None,\n",
    "    'danceability': ['filter_by'],\n",
    "    'energy': ['filter_by'],\n",
    "    'acousticness': None,\n",
    "    'valence': None,\n",
    "    'tempo': None\n",
    "}\n"
   ]
  },
  {
   "cell_type": "code",
   "execution_count": 7,
   "metadata": {
    "collapsed": false
   },
   "outputs": [],
   "source": [
    "request_body = {\n",
    "    'filters': filters,\n",
    "    'uid': 'bornofawesomeness'\n",
    "}\n",
    "api_url = 'http://127.0.0.1:5000/create'\n",
    "data = json.dumps(request_body)\n",
    "response = http.post(api_url, data=data, headers={'Content-Type': 'application/json'})"
   ]
  },
  {
   "cell_type": "code",
   "execution_count": 8,
   "metadata": {
    "collapsed": false
   },
   "outputs": [
    {
     "data": {
      "text/plain": [
       "'[\"Wild for the Night\", \"Alone\", \"Febreze (feat. 2 Chainz)\", \"Enigma (feat. GRRL PAL)\", \"Rebel\", \"Tsunami - Original Mix\", \"Karate - Original Mix\", \"Ni**as In Paris\", \"Dum Dee Dum - JiKay Remix\", \"Cutting Shapes\", \"Ultra DJ\\'s/Me & You - Spencer & Hill Remix\", \"Yallah\", \"Know Me\", \"Keep It Mello (feat. Omar LinX)\", \"Donald Trump\", \"Cantina Boys\", \"Soundclash\", \"Rollup\", \"Alone\", \"Lights Down Low\", \"Brainless\", \"Rap God\", \"Really Got It\", \"Axel F - Radio Mix\", \"Colors - Audien Remix\", \"You Make Me Feel... - feat. Sabi\", \"Nothin\\' On You (feat. Bruno Mars)\", \"I\\'m A Drum Machine - Radio Edit\", \"Let\\'s Go\", \"Roses - Zaxx Remix\", \"Light It Up (feat. Nyla & Fuse ODG) [Remix]\", \"We Run The Night\", \"Rescue Me (feat. Juliana Chahayed) - Original Mix\", \"Eat Sleep Rave Repeat - Remix\", \"Buzzin\", \"Supernova\", \"Don\\'t Stop the Party\", \"Run Away\", \"Legends (feat. Kalibwoy) - Original Mix\", \"Bubblehead\", \"Price Tag\", \"Please Don\\'t Go\", \"Sugar (feat. Wynter)\", \"Mind Control\", \"Jump Ya Body - Dub Mix\", \"Vision\", \"Bounce - Radio Edit\", \"Let\\'s Go\", \"Rock N\\' Roll [Will Take You To The Mountain]\", \"Ruffneck - FULL Flex\", \"Count On Me\", \"Bangarang (feat. Sirah)\", \"Beautiful\", \"International Love\", \"Give Me Everything\", \"Acrylics\", \"I Still Can\\'t Stop\", \"All I Ask Of You (feat. Pennybirdrabbit)\", \"Dum Dee Dum\", \"Prelude - Extended Mix\", \"Thinking About You\", \"DJ Got Us Fallin\\' In Love\", \"Angels x Demons - Radio Edit\", \"Killer\", \"In Your Arms - Radio Edit\", \"The Drop\", \"Shotgun\", \"Break Your Heart\", \"Boom Boom Pow\", \"Keep You Much Longer\", \"Not Afraid\", \"Whistle\", \"Good Feeling\", \"Finger Trvp\", \"Red Step\", \"You Used to Hold Me - Laidback Luke Remix\", \"Pop That\", \"Hey, Soul Sister\", \"Written in the Stars (feat. Eric Turner)\", \"Just The Way You Are\", \"It\\'s Time\", \"The Middle\", \"Cinema - Skrillex Remix\", \"In The Beginning\", \"Slot Machine\", \"Body Body - Ishe Remix\", \"I Run This - Original Mix\", \"Make It Reign - Original Mix\", \"Stars Come Out - Terravita Remix\", \"Satisfaction - RL Grime Remix\", \"Make My Whole World\", \"Best Day Of My Life\", \"Thunder - Original Mix\", \"Bet I (feat. T.I. & Playboy Tre)\", \"Airplanes (feat. Hayley Williams)\", \"Hold Me Close\", \"Lines in Wax (feat. Foreign Beggars)\", \"Bass Cannon\", \"Lucid Truth\", \"Falling In\", \"Love The Way You Lie\", \"Space Bound\", \"Cinderella Man\", \"No Love\", \"You Used to Hold Me\", \"I Need Your Love\", \"Feel So Close - Radio Edit\", \"Legacy\", \"Spaceman - Drown The Fish Remix\", \"Ecstasy\"]'"
      ]
     },
     "execution_count": 8,
     "metadata": {},
     "output_type": "execute_result"
    }
   ],
   "source": [
    "response_json = response.json()\n",
    "playlist_id = response_json['identifier']\n",
    "response_json['playlist']"
   ]
  },
  {
   "cell_type": "code",
   "execution_count": 6,
   "metadata": {
    "collapsed": false
   },
   "outputs": [
    {
     "data": {
      "text/plain": [
       "'awesome'"
      ]
     },
     "execution_count": 6,
     "metadata": {},
     "output_type": "execute_result"
    }
   ],
   "source": [
    "save_data = {\n",
    "    'identifier': playlist_id,\n",
    "    'uid': 'bornofawesomeness',\n",
    "    'name': 'litty lit lit'\n",
    "}\n",
    "api_url = 'http://127.0.0.1:5000/save'\n",
    "save_data = json.dumps(save_data)\n",
    "response = http.post(api_url, data=save_data, headers={'Content-Type': 'application/json'})\n",
    "response.text"
   ]
  },
  {
   "cell_type": "code",
   "execution_count": null,
   "metadata": {
    "collapsed": true
   },
   "outputs": [],
   "source": []
  }
 ],
 "metadata": {
  "anaconda-cloud": {},
  "kernelspec": {
   "display_name": "Python [Root]",
   "language": "python",
   "name": "Python [Root]"
  },
  "language_info": {
   "codemirror_mode": {
    "name": "ipython",
    "version": 3
   },
   "file_extension": ".py",
   "mimetype": "text/x-python",
   "name": "python",
   "nbconvert_exporter": "python",
   "pygments_lexer": "ipython3",
   "version": "3.5.2"
  }
 },
 "nbformat": 4,
 "nbformat_minor": 0
}
