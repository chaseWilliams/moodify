{
 "cells": [
  {
   "cell_type": "code",
   "execution_count": 2,
   "metadata": {
    "collapsed": false
   },
   "outputs": [],
   "source": [
    "%matplotlib inline\n",
    "import requests as http\n",
    "import pandas as pd\n",
    "import numpy as np\n",
    "import matplotlib.pyplot as plt\n",
    "import seaborn as sns\n",
    "from collections import Counter\n",
    "import lib.lastfm as lastfm\n",
    "import lib.curator as curator\n",
    "#from lib.spotify import User\n",
    "import time\n",
    "import calendar\n",
    "import datetime\n",
    "import re\n",
    "import unicodedata\n",
    "import importlib\n",
    "import requests as http\n",
    "import json\n",
    "import uuid\n",
    "import redis as rd\n",
    "import tornado\n",
    "import pickle"
   ]
  },
  {
   "cell_type": "code",
   "execution_count": 2,
   "metadata": {
    "collapsed": false
   },
   "outputs": [],
   "source": [
    "redis = rd.StrictRedis(host='localhost', port=6379, db=0)\n",
    "user_binary = redis.get('bornofawesomeness-obj')\n",
    "user = pickle.loads(user_binary)"
   ]
  },
  {
   "cell_type": "code",
   "execution_count": 3,
   "metadata": {
    "collapsed": false
   },
   "outputs": [
    {
     "data": {
      "text/plain": [
       "(4.2668, 'seconds')"
      ]
     },
     "execution_count": 3,
     "metadata": {},
     "output_type": "execute_result"
    }
   ],
   "source": [
    "count = 0\n",
    "artists = user.artists\n",
    "cap = len(artists)\n",
    "last_key = 'b333a19b2c0397e8e4c1224b49b3e7cd'\n",
    "last_genre_method = 'artist.gettopTags'\n",
    "last_base = 'http://ws.audioscrobbler.com/2.0/?method={0}&api_key={1}&format=json'\n",
    "last_genre_url = last_base.format(last_genre_method, last_key) + '&autocorrect=1&artist='\n",
    "def normalize_tags(tags, index):\n",
    "    try:\n",
    "        string = tags[index]['name']\n",
    "        result = re.findall(r'([A-z])', string)\n",
    "        return ''.join(result).lower()\n",
    "    except IndexError:\n",
    "        return None\n",
    "genres = {}\n",
    "start_time = time.clock()\n",
    "for artist in artists:\n",
    "    count += 1\n",
    "    url = last_genre_url + artist\n",
    "    url = url.replace(' ', '+')\n",
    "    response = http.get(url, timeout=200).json()\n",
    "    try:\n",
    "        tags = response['toptags']['tag']\n",
    "        genres[artist] = [\n",
    "            normalize_tags(tags, 0),\n",
    "            normalize_tags(tags, 1)\n",
    "        ]\n",
    "    except KeyError:\n",
    "        genres[artist] = [None, None]\n",
    "\n",
    "time.clock() - start_time, 'seconds'"
   ]
  },
  {
   "cell_type": "code",
   "execution_count": 9,
   "metadata": {
    "collapsed": false
   },
   "outputs": [
    {
     "name": "stdout",
     "output_type": "stream",
     "text": [
      "1.836879999999999 seconds\n"
     ]
    }
   ],
   "source": [
    "from tornado import ioloop\n",
    "from tornado.httpclient import AsyncHTTPClient, HTTPRequest\n",
    "genres = {}\n",
    "left_to_process = len(user.artists)\n",
    "def handle_response(response):\n",
    "    if response.error:\n",
    "        print(\"Error:\", response.error, response.effective_url)\n",
    "    else:\n",
    "        try:\n",
    "            res_json = json.loads(response.body.decode('utf-8'))\n",
    "            tags = res_json['toptags']['tag']\n",
    "            genres[artist] = [\n",
    "                normalize_tags(tags, 0),\n",
    "                normalize_tags(tags, 1)\n",
    "            ]\n",
    "        except KeyError:\n",
    "            genres[artist] = [None, None]\n",
    "    global left_to_process\n",
    "    left_to_process -= 1\n",
    "    if left_to_process == 0:\n",
    "        print(time.clock() - start_time, 'seconds')\n",
    "\n",
    "http_client = AsyncHTTPClient()\n",
    "start_time = time.clock()\n",
    "for artist in user.artists:\n",
    "    url = last_genre_url + artist\n",
    "    url = url.replace(' ', '+')\n",
    "    req = HTTPRequest(url, request_timeout=200)\n",
    "    http_client.fetch(req, handle_response)"
   ]
  },
  {
   "cell_type": "code",
   "execution_count": 11,
   "metadata": {
    "collapsed": false
   },
   "outputs": [
    {
     "data": {
      "text/plain": [
       "True"
      ]
     },
     "execution_count": 11,
     "metadata": {},
     "output_type": "execute_result"
    }
   ],
   "source": [
    "arr = [np.nan] * 100\n",
    "a = pd.Series(arr)\n",
    "np.isnan(a[0])"
   ]
  },
  {
   "cell_type": "code",
   "execution_count": 16,
   "metadata": {
    "collapsed": false
   },
   "outputs": [
    {
     "name": "stdout",
     "output_type": "stream",
     "text": [
      "woops\n"
     ]
    }
   ],
   "source": [
    "class BadFilter(Exception):\n",
    "    pass\n",
    "        \n",
    "def foo():\n",
    "    raise BadFilter()\n",
    "    \n",
    "try:\n",
    "    foo()\n",
    "except BadFilter:\n",
    "    print('woops')"
   ]
  },
  {
   "cell_type": "code",
   "execution_count": null,
   "metadata": {
    "collapsed": true
   },
   "outputs": [],
   "source": []
  }
 ],
 "metadata": {
  "anaconda-cloud": {},
  "kernelspec": {
   "display_name": "Python [Root]",
   "language": "python",
   "name": "Python [Root]"
  },
  "language_info": {
   "codemirror_mode": {
    "name": "ipython",
    "version": 3
   },
   "file_extension": ".py",
   "mimetype": "text/x-python",
   "name": "python",
   "nbconvert_exporter": "python",
   "pygments_lexer": "ipython3",
   "version": "3.5.2"
  }
 },
 "nbformat": 4,
 "nbformat_minor": 0
}
