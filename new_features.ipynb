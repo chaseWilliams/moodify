{
 "cells": [
  {
   "cell_type": "code",
   "execution_count": 1,
   "metadata": {
    "collapsed": false
   },
   "outputs": [],
   "source": [
    "import requests as http\n",
    "import pandas as pd\n",
    "import numpy as np\n",
    "import matplotlib.pyplot as plt\n",
    "import seaborn as sns\n",
    "from collections import Counter\n",
    "import time\n",
    "import calendar\n",
    "import datetime\n",
    "api_key = 'b333a19b2c0397e8e4c1224b49b3e7cd'\n",
    "api_base = 'http://ws.audioscrobbler.com/2.0/?format=json&'\n",
    "user_name = 'dude0faw3'\n",
    "data = http.get(api_base + 'method=user.getrecenttracks&limit=200&api_key='\\\n",
    "                + api_key + '&user=' + user_name).json()\n",
    "library = pd.read_csv('data.csv')"
   ]
  },
  {
   "cell_type": "code",
   "execution_count": 2,
   "metadata": {
    "collapsed": false,
    "scrolled": true
   },
   "outputs": [
    {
     "name": "stdout",
     "output_type": "stream",
     "text": [
      "Starting! There are 156 pages\n",
      "Page 25\n",
      "Page 50\n",
      "Page 75\n",
      "Page 100\n",
      "Page 125\n",
      "Page 150\n"
     ]
    },
    {
     "data": {
      "text/html": [
       "<div>\n",
       "<table border=\"1\" class=\"dataframe\">\n",
       "  <thead>\n",
       "    <tr style=\"text-align: right;\">\n",
       "      <th></th>\n",
       "      <th>track_name</th>\n",
       "      <th>artist</th>\n",
       "      <th>date</th>\n",
       "    </tr>\n",
       "  </thead>\n",
       "  <tbody>\n",
       "    <tr>\n",
       "      <th>31229</th>\n",
       "      <td>This Is What It Feels Like</td>\n",
       "      <td>Armin van Buuren</td>\n",
       "      <td>1407180582</td>\n",
       "    </tr>\n",
       "    <tr>\n",
       "      <th>31230</th>\n",
       "      <td>Ecstasy</td>\n",
       "      <td>ATB</td>\n",
       "      <td>1407180320</td>\n",
       "    </tr>\n",
       "    <tr>\n",
       "      <th>31231</th>\n",
       "      <td>Spaceman - Drown The Fish Remix</td>\n",
       "      <td>Hardwell</td>\n",
       "      <td>1407179792</td>\n",
       "    </tr>\n",
       "    <tr>\n",
       "      <th>31232</th>\n",
       "      <td>Legacy</td>\n",
       "      <td>Eminem</td>\n",
       "      <td>1407179496</td>\n",
       "    </tr>\n",
       "    <tr>\n",
       "      <th>31233</th>\n",
       "      <td>Spaceman - Drown The Fish Remix</td>\n",
       "      <td>Hardwell</td>\n",
       "      <td>1407179059</td>\n",
       "    </tr>\n",
       "  </tbody>\n",
       "</table>\n",
       "</div>"
      ],
      "text/plain": [
       "                            track_name            artist        date\n",
       "31229       This Is What It Feels Like  Armin van Buuren  1407180582\n",
       "31230                          Ecstasy               ATB  1407180320\n",
       "31231  Spaceman - Drown The Fish Remix          Hardwell  1407179792\n",
       "31232                           Legacy            Eminem  1407179496\n",
       "31233  Spaceman - Drown The Fish Remix          Hardwell  1407179059"
      ]
     },
     "execution_count": 2,
     "metadata": {},
     "output_type": "execute_result"
    }
   ],
   "source": [
    "track_data = data['recenttracks']['track']\n",
    "limit = data['recenttracks']['@attr']['totalPages']\n",
    "page = 1\n",
    "history = []\n",
    "# for nested dictionary entry requests\n",
    "class FakeNone:\n",
    "    def get(*args):\n",
    "        return FakeNone()\n",
    "# ensures that there's no key error exception\n",
    "def check_track(track):\n",
    "    arr = [track.get('name', FakeNone()),\n",
    "     track.get('artist', FakeNone()).get('#text', FakeNone()),\n",
    "      track.get('date', FakeNone()).get('uts', FakeNone())\n",
    "    ]\n",
    "    return [None if type(x) == FakeNone else x for x in arr]\n",
    "\n",
    "for track in track_data:\n",
    "    history.append(check_track(track))\n",
    "    \n",
    "print('Starting! There are ' + limit + ' pages')\n",
    "while int(data['recenttracks']['@attr']['page']) is not int(limit):\n",
    "    if page % 25 is 0:\n",
    "        print('Page %i' % page)\n",
    "    page += 1\n",
    "    data = http.get(api_base + 'method=user.getrecenttracks&limit=200&api_key=' + api_key + \\\n",
    "                    '&user=' + user_name + '&page=' + str(page)).json()\n",
    "    for track in data['recenttracks']['track']:\n",
    "        history.append(check_track(track))\n",
    "\n",
    "df = pd.DataFrame(history)\n",
    "df.columns = ['track_name', 'artist', 'date']\n",
    "df.tail()"
   ]
  },
  {
   "cell_type": "markdown",
   "metadata": {
    "collapsed": true
   },
   "source": [
    "## Goals:\n",
    "- most listened to songs/ artists (as well as during a time)\n",
    "- songs/artists you've neglected\n",
    "- music habits (top 25 songs vs entire library, etc.)\n",
    "- genres (tags)"
   ]
  },
  {
   "cell_type": "code",
   "execution_count": 3,
   "metadata": {
    "collapsed": false
   },
   "outputs": [
    {
     "data": {
      "text/plain": [
       "[('Playing In The Shadows', 3),\n",
       " ('Slowly - Radio Edit', 3),\n",
       " ('Tumblr Girls', 3),\n",
       " ('Fade Away', 3),\n",
       " ('Flexicution', 2),\n",
       " ('Valerie', 2),\n",
       " ('We Come Running - Tiësto Remix', 2),\n",
       " ('Downtown Love', 2),\n",
       " ('Many Ways - Radio Edit', 2),\n",
       " ('The Birds Pt. 2 - Album Version (Edited)', 1)]"
      ]
     },
     "execution_count": 3,
     "metadata": {},
     "output_type": "execute_result"
    }
   ],
   "source": [
    "# determine the n-most frequently played songs from a given pandas series\n",
    "def determine_frequencies(data, num_songs, neglected=False):\n",
    "    if neglected:\n",
    "        counter = Counter(data)\n",
    "        frequencies = counter.most_common()\n",
    "        index = len(frequencies) - num_songs\n",
    "        return frequencies[ index :]\n",
    "    else:\n",
    "        counter = Counter(data)\n",
    "        return counter.most_common(num_songs)\n",
    "\n",
    "# clean lastfm data to only have songs currently in spotify library\n",
    "def refine_df(original_df, feature_name, must_haves):\n",
    "    def check(val):\n",
    "        for must_have in must_haves:\n",
    "            if must_have == val:\n",
    "                return True\n",
    "        return False\n",
    "    arr_check = np.vectorize(check)\n",
    "    return original_df[ arr_check(original_df[ feature_name ]) ]\n",
    "\n",
    "# return most infrequently played songs\n",
    "songs = library['track_name']\n",
    "df = refine_df(df, 'track_name', songs)\n",
    "determine_frequencies(df['track_name'].values, 10, neglected=True)"
   ]
  },
  {
   "cell_type": "code",
   "execution_count": 4,
   "metadata": {
    "collapsed": false
   },
   "outputs": [
    {
     "ename": "TypeError",
     "evalue": "int() argument must be a string, a bytes-like object or a number, not 'NoneType'",
     "output_type": "error",
     "traceback": [
      "\u001b[0;31m---------------------------------------------------------------------------\u001b[0m",
      "\u001b[0;31mTypeError\u001b[0m                                 Traceback (most recent call last)",
      "\u001b[0;32m<ipython-input-4-30f2dcf17396>\u001b[0m in \u001b[0;36m<module>\u001b[0;34m()\u001b[0m\n\u001b[1;32m     35\u001b[0m \u001b[0;31m# make a timemachine to 2014, check out top artists from then\u001b[0m\u001b[0;34m\u001b[0m\u001b[0;34m\u001b[0m\u001b[0m\n\u001b[1;32m     36\u001b[0m \u001b[0mobj\u001b[0m \u001b[0;34m=\u001b[0m \u001b[0mTimeMachine\u001b[0m\u001b[0;34m(\u001b[0m\u001b[0;34m'2014'\u001b[0m\u001b[0;34m)\u001b[0m\u001b[0;34m\u001b[0m\u001b[0m\n\u001b[0;32m---> 37\u001b[0;31m \u001b[0msummer_df\u001b[0m \u001b[0;34m=\u001b[0m \u001b[0mobj\u001b[0m\u001b[0;34m.\u001b[0m\u001b[0min_year\u001b[0m\u001b[0;34m(\u001b[0m\u001b[0mdf\u001b[0m\u001b[0;34m)\u001b[0m\u001b[0;34m\u001b[0m\u001b[0m\n\u001b[0m\u001b[1;32m     38\u001b[0m \u001b[0mdetermine_frequencies\u001b[0m\u001b[0;34m(\u001b[0m\u001b[0msummer_df\u001b[0m\u001b[0;34m[\u001b[0m\u001b[0;34m'artist'\u001b[0m\u001b[0;34m]\u001b[0m\u001b[0;34m,\u001b[0m \u001b[0;36m20\u001b[0m\u001b[0;34m)\u001b[0m\u001b[0;34m\u001b[0m\u001b[0m\n",
      "\u001b[0;32m<ipython-input-4-30f2dcf17396>\u001b[0m in \u001b[0;36min_year\u001b[0;34m(self, df)\u001b[0m\n\u001b[1;32m     31\u001b[0m             \u001b[0;32mreturn\u001b[0m \u001b[0mlisten_time\u001b[0m\u001b[0;34m.\u001b[0m\u001b[0myear\u001b[0m \u001b[0;34m==\u001b[0m \u001b[0mdate\u001b[0m\u001b[0;34m.\u001b[0m\u001b[0myear\u001b[0m\u001b[0;34m\u001b[0m\u001b[0m\n\u001b[1;32m     32\u001b[0m         \u001b[0marr_time_check\u001b[0m \u001b[0;34m=\u001b[0m \u001b[0mnp\u001b[0m\u001b[0;34m.\u001b[0m\u001b[0mvectorize\u001b[0m\u001b[0;34m(\u001b[0m\u001b[0mcheck_time\u001b[0m\u001b[0;34m)\u001b[0m\u001b[0;34m\u001b[0m\u001b[0m\n\u001b[0;32m---> 33\u001b[0;31m         \u001b[0;32mreturn\u001b[0m \u001b[0mdf\u001b[0m\u001b[0;34m[\u001b[0m \u001b[0marr_time_check\u001b[0m\u001b[0;34m(\u001b[0m\u001b[0mdf\u001b[0m\u001b[0;34m[\u001b[0m\u001b[0;34m'date'\u001b[0m\u001b[0;34m]\u001b[0m\u001b[0;34m)\u001b[0m\u001b[0;34m]\u001b[0m\u001b[0;34m\u001b[0m\u001b[0m\n\u001b[0m\u001b[1;32m     34\u001b[0m \u001b[0;34m\u001b[0m\u001b[0m\n\u001b[1;32m     35\u001b[0m \u001b[0;31m# make a timemachine to 2014, check out top artists from then\u001b[0m\u001b[0;34m\u001b[0m\u001b[0;34m\u001b[0m\u001b[0m\n",
      "\u001b[0;32m/Users/chase/anaconda3/lib/python3.5/site-packages/numpy/lib/function_base.py\u001b[0m in \u001b[0;36m__call__\u001b[0;34m(self, *args, **kwargs)\u001b[0m\n\u001b[1;32m   2216\u001b[0m             \u001b[0mvargs\u001b[0m\u001b[0;34m.\u001b[0m\u001b[0mextend\u001b[0m\u001b[0;34m(\u001b[0m\u001b[0;34m[\u001b[0m\u001b[0mkwargs\u001b[0m\u001b[0;34m[\u001b[0m\u001b[0m_n\u001b[0m\u001b[0;34m]\u001b[0m \u001b[0;32mfor\u001b[0m \u001b[0m_n\u001b[0m \u001b[0;32min\u001b[0m \u001b[0mnames\u001b[0m\u001b[0;34m]\u001b[0m\u001b[0;34m)\u001b[0m\u001b[0;34m\u001b[0m\u001b[0m\n\u001b[1;32m   2217\u001b[0m \u001b[0;34m\u001b[0m\u001b[0m\n\u001b[0;32m-> 2218\u001b[0;31m         \u001b[0;32mreturn\u001b[0m \u001b[0mself\u001b[0m\u001b[0;34m.\u001b[0m\u001b[0m_vectorize_call\u001b[0m\u001b[0;34m(\u001b[0m\u001b[0mfunc\u001b[0m\u001b[0;34m=\u001b[0m\u001b[0mfunc\u001b[0m\u001b[0;34m,\u001b[0m \u001b[0margs\u001b[0m\u001b[0;34m=\u001b[0m\u001b[0mvargs\u001b[0m\u001b[0;34m)\u001b[0m\u001b[0;34m\u001b[0m\u001b[0m\n\u001b[0m\u001b[1;32m   2219\u001b[0m \u001b[0;34m\u001b[0m\u001b[0m\n\u001b[1;32m   2220\u001b[0m     \u001b[0;32mdef\u001b[0m \u001b[0m_get_ufunc_and_otypes\u001b[0m\u001b[0;34m(\u001b[0m\u001b[0mself\u001b[0m\u001b[0;34m,\u001b[0m \u001b[0mfunc\u001b[0m\u001b[0;34m,\u001b[0m \u001b[0margs\u001b[0m\u001b[0;34m)\u001b[0m\u001b[0;34m:\u001b[0m\u001b[0;34m\u001b[0m\u001b[0m\n",
      "\u001b[0;32m/Users/chase/anaconda3/lib/python3.5/site-packages/numpy/lib/function_base.py\u001b[0m in \u001b[0;36m_vectorize_call\u001b[0;34m(self, func, args)\u001b[0m\n\u001b[1;32m   2285\u001b[0m                       for _a in args]\n\u001b[1;32m   2286\u001b[0m \u001b[0;34m\u001b[0m\u001b[0m\n\u001b[0;32m-> 2287\u001b[0;31m             \u001b[0moutputs\u001b[0m \u001b[0;34m=\u001b[0m \u001b[0mufunc\u001b[0m\u001b[0;34m(\u001b[0m\u001b[0;34m*\u001b[0m\u001b[0minputs\u001b[0m\u001b[0;34m)\u001b[0m\u001b[0;34m\u001b[0m\u001b[0m\n\u001b[0m\u001b[1;32m   2288\u001b[0m \u001b[0;34m\u001b[0m\u001b[0m\n\u001b[1;32m   2289\u001b[0m             \u001b[0;32mif\u001b[0m \u001b[0mufunc\u001b[0m\u001b[0;34m.\u001b[0m\u001b[0mnout\u001b[0m \u001b[0;34m==\u001b[0m \u001b[0;36m1\u001b[0m\u001b[0;34m:\u001b[0m\u001b[0;34m\u001b[0m\u001b[0m\n",
      "\u001b[0;32m<ipython-input-4-30f2dcf17396>\u001b[0m in \u001b[0;36mcheck_time\u001b[0;34m(seconds)\u001b[0m\n\u001b[1;32m     28\u001b[0m         \u001b[0mdate\u001b[0m \u001b[0;34m=\u001b[0m \u001b[0mdatetime\u001b[0m\u001b[0;34m.\u001b[0m\u001b[0mdate\u001b[0m\u001b[0;34m(\u001b[0m\u001b[0mint\u001b[0m\u001b[0;34m(\u001b[0m\u001b[0mself\u001b[0m\u001b[0;34m.\u001b[0m\u001b[0myear\u001b[0m\u001b[0;34m)\u001b[0m\u001b[0;34m,\u001b[0m \u001b[0;36m1\u001b[0m\u001b[0;34m,\u001b[0m \u001b[0;36m1\u001b[0m\u001b[0;34m)\u001b[0m\u001b[0;34m\u001b[0m\u001b[0m\n\u001b[1;32m     29\u001b[0m         \u001b[0;32mdef\u001b[0m \u001b[0mcheck_time\u001b[0m\u001b[0;34m(\u001b[0m\u001b[0mseconds\u001b[0m\u001b[0;34m)\u001b[0m\u001b[0;34m:\u001b[0m\u001b[0;34m\u001b[0m\u001b[0m\n\u001b[0;32m---> 30\u001b[0;31m             \u001b[0mlisten_time\u001b[0m \u001b[0;34m=\u001b[0m  \u001b[0mdatetime\u001b[0m\u001b[0;34m.\u001b[0m\u001b[0mdate\u001b[0m\u001b[0;34m.\u001b[0m\u001b[0mfromtimestamp\u001b[0m\u001b[0;34m(\u001b[0m\u001b[0mint\u001b[0m\u001b[0;34m(\u001b[0m\u001b[0mseconds\u001b[0m\u001b[0;34m)\u001b[0m\u001b[0;34m)\u001b[0m\u001b[0;34m\u001b[0m\u001b[0m\n\u001b[0m\u001b[1;32m     31\u001b[0m             \u001b[0;32mreturn\u001b[0m \u001b[0mlisten_time\u001b[0m\u001b[0;34m.\u001b[0m\u001b[0myear\u001b[0m \u001b[0;34m==\u001b[0m \u001b[0mdate\u001b[0m\u001b[0;34m.\u001b[0m\u001b[0myear\u001b[0m\u001b[0;34m\u001b[0m\u001b[0m\n\u001b[1;32m     32\u001b[0m         \u001b[0marr_time_check\u001b[0m \u001b[0;34m=\u001b[0m \u001b[0mnp\u001b[0m\u001b[0;34m.\u001b[0m\u001b[0mvectorize\u001b[0m\u001b[0;34m(\u001b[0m\u001b[0mcheck_time\u001b[0m\u001b[0;34m)\u001b[0m\u001b[0;34m\u001b[0m\u001b[0m\n",
      "\u001b[0;31mTypeError\u001b[0m: int() argument must be a string, a bytes-like object or a number, not 'NoneType'"
     ]
    }
   ],
   "source": [
    "class TimeMachine:\n",
    "    \n",
    "    def __init__(self, year):\n",
    "        self.seasons = {\n",
    "            'spring': ( time.strptime('21 Mar ' + year, '%d %b %Y'),\n",
    "                      time.strptime('21 Jun ' + year, '%d %b %Y')),\n",
    "            'summer': ( time.strptime('21 Jun ' + year, '%d %b %Y'),\n",
    "                      time.strptime('23 Sep ' + year, '%d %b %Y')),\n",
    "            'fall': ( time.strptime('23 Sep ' + year, '%d %b %Y'),\n",
    "                      time.strptime('21 Dec ' + year, '%d %b %Y')),\n",
    "            'winter': ( time.strptime('21 Dec ' + year, '%d %b %Y'),\n",
    "                        time.strptime('21 Mar ' + str(int(year) + 1), '%d %b %Y'))\n",
    "        }\n",
    "        self.year = year\n",
    "        \n",
    "    def set_year(self, new_year):\n",
    "        self = self.__init__(new_year)\n",
    "        \n",
    "    def in_season(self, season, df):\n",
    "        timeslice = self.seasons[season]\n",
    "        def check_time(seconds):\n",
    "            listen_time =  time.gmtime(int(seconds))\n",
    "            return listen_time > timeslice[0] and listen_time < timeslice[1]\n",
    "        arr_time_check = np.vectorize(check_time)\n",
    "        return df[arr_time_check(df['date'])]\n",
    "    \n",
    "    def in_year(self, df):\n",
    "        date = datetime.date(int(self.year), 1, 1)\n",
    "        def check_time(seconds):\n",
    "            listen_time =  datetime.date.fromtimestamp(int(seconds))\n",
    "            return listen_time.year == date.year\n",
    "        arr_time_check = np.vectorize(check_time)\n",
    "        return df[ arr_time_check(df['date'])]\n",
    "    \n",
    "# make a timemachine to 2014, check out top artists from then\n",
    "obj = TimeMachine('2014')\n",
    "summer_df = obj.in_year(df)\n",
    "determine_frequencies(summer_df['artist'], 20)"
   ]
  },
  {
   "cell_type": "code",
   "execution_count": null,
   "metadata": {
    "collapsed": true
   },
   "outputs": [],
   "source": []
  }
 ],
 "metadata": {
  "anaconda-cloud": {},
  "kernelspec": {
   "display_name": "Python [Root]",
   "language": "python",
   "name": "Python [Root]"
  },
  "language_info": {
   "codemirror_mode": {
    "name": "ipython",
    "version": 3
   },
   "file_extension": ".py",
   "mimetype": "text/x-python",
   "name": "python",
   "nbconvert_exporter": "python",
   "pygments_lexer": "ipython3",
   "version": "3.5.2"
  }
 },
 "nbformat": 4,
 "nbformat_minor": 0
}
