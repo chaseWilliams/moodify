{
 "cells": [
  {
   "cell_type": "code",
   "execution_count": 2,
   "metadata": {
    "collapsed": false
   },
   "outputs": [],
   "source": [
    "import requests as http\n",
    "import pandas as pd\n",
    "import numpy as np\n",
    "import matplotlib.pyplot as plt\n",
    "import seaborn as sns\n",
    "from collections import Counter\n",
    "import time\n",
    "import calendar\n",
    "import datetime\n",
    "api_key = 'b333a19b2c0397e8e4c1224b49b3e7cd'\n",
    "api_base = 'http://ws.audioscrobbler.com/2.0/?format=json&'\n",
    "user_name = 'dude0faw3'\n",
    "data = http.get(api_base + 'method=user.getrecenttracks&limit=200&api_key='\\\n",
    "                + api_key + '&user=' + user_name).json()"
   ]
  },
  {
   "cell_type": "code",
   "execution_count": 3,
   "metadata": {
    "collapsed": false,
    "scrolled": true
   },
   "outputs": [
    {
     "name": "stdout",
     "output_type": "stream",
     "text": [
      "Starting! There are 155 pages\n",
      "Page 25\n",
      "Page 50\n",
      "Page 75\n",
      "Page 100\n",
      "Page 125\n",
      "Page 150\n"
     ]
    },
    {
     "data": {
      "text/html": [
       "<div>\n",
       "<table border=\"1\" class=\"dataframe\">\n",
       "  <thead>\n",
       "    <tr style=\"text-align: right;\">\n",
       "      <th></th>\n",
       "      <th>track_name</th>\n",
       "      <th>artist</th>\n",
       "      <th>date</th>\n",
       "    </tr>\n",
       "  </thead>\n",
       "  <tbody>\n",
       "    <tr>\n",
       "      <th>30833</th>\n",
       "      <td>This Is What It Feels Like</td>\n",
       "      <td>Armin van Buuren</td>\n",
       "      <td>1407180582</td>\n",
       "    </tr>\n",
       "    <tr>\n",
       "      <th>30834</th>\n",
       "      <td>Ecstasy</td>\n",
       "      <td>ATB</td>\n",
       "      <td>1407180320</td>\n",
       "    </tr>\n",
       "    <tr>\n",
       "      <th>30835</th>\n",
       "      <td>Spaceman - Drown The Fish Remix</td>\n",
       "      <td>Hardwell</td>\n",
       "      <td>1407179792</td>\n",
       "    </tr>\n",
       "    <tr>\n",
       "      <th>30836</th>\n",
       "      <td>Legacy</td>\n",
       "      <td>Eminem</td>\n",
       "      <td>1407179496</td>\n",
       "    </tr>\n",
       "    <tr>\n",
       "      <th>30837</th>\n",
       "      <td>Spaceman - Drown The Fish Remix</td>\n",
       "      <td>Hardwell</td>\n",
       "      <td>1407179059</td>\n",
       "    </tr>\n",
       "  </tbody>\n",
       "</table>\n",
       "</div>"
      ],
      "text/plain": [
       "                            track_name            artist        date\n",
       "30833       This Is What It Feels Like  Armin van Buuren  1407180582\n",
       "30834                          Ecstasy               ATB  1407180320\n",
       "30835  Spaceman - Drown The Fish Remix          Hardwell  1407179792\n",
       "30836                           Legacy            Eminem  1407179496\n",
       "30837  Spaceman - Drown The Fish Remix          Hardwell  1407179059"
      ]
     },
     "execution_count": 3,
     "metadata": {},
     "output_type": "execute_result"
    }
   ],
   "source": [
    "track_data = data['recenttracks']['track']\n",
    "limit = data['recenttracks']['@attr']['totalPages']\n",
    "page = 1\n",
    "history = []\n",
    "# for nested dictionary entry requests\n",
    "class FakeNone:\n",
    "    def get(*args):\n",
    "        return FakeNone()\n",
    "# ensures that there's no key error exception\n",
    "def check_track(track):\n",
    "    arr = [track.get('name', FakeNone()),\n",
    "     track.get('artist', FakeNone()).get('#text', FakeNone()),\n",
    "      track.get('date', FakeNone()).get('uts', FakeNone())\n",
    "    ]\n",
    "    return [None if type(x) == FakeNone else x for x in arr]\n",
    "\n",
    "for track in track_data:\n",
    "    history.append(check_track(track))\n",
    "    \n",
    "print('Starting! There are ' + limit + ' pages')\n",
    "while int(data['recenttracks']['@attr']['page']) is not int(limit):\n",
    "    if page % 25 is 0:\n",
    "        print('Page %i' % page)\n",
    "    page += 1\n",
    "    data = http.get(api_base + 'method=user.getrecenttracks&limit=200&api_key=' + api_key + \\\n",
    "                    '&user=' + user_name + '&page=' + str(page)).json()\n",
    "    for track in data['recenttracks']['track']:\n",
    "        history.append(check_track(track))\n",
    "\n",
    "df = pd.DataFrame(history)\n",
    "df.columns = ['track_name', 'artist', 'date']\n",
    "df.tail()"
   ]
  },
  {
   "cell_type": "markdown",
   "metadata": {
    "collapsed": true
   },
   "source": [
    "## Goals:\n",
    "- most listened to songs/ artists (as well as during a time)\n",
    "- songs/artists you've neglected"
   ]
  },
  {
   "cell_type": "code",
   "execution_count": 4,
   "metadata": {
    "collapsed": false
   },
   "outputs": [
    {
     "data": {
      "text/plain": [
       "[('Playground [feat. Bugle & Arama]', 144),\n",
       " ('Cracks - Flux Pavilion Remix', 134),\n",
       " ('Give Me Everything', 129),\n",
       " ('The Hills', 127),\n",
       " ('Dum Dee Dum', 121),\n",
       " ('Alone', 119),\n",
       " ('Legacy', 119),\n",
       " ('Freeway - Flux Pavilion and Kill The Noise Remix', 111),\n",
       " ('Five Hours', 104),\n",
       " ('Voices - Markus Maximus TRAP Remix', 102)]"
      ]
     },
     "execution_count": 4,
     "metadata": {},
     "output_type": "execute_result"
    }
   ],
   "source": [
    "# determine the n-most frequently played songs from a given pandas series\n",
    "def determine_frequencies(series, num_songs, neglected=False):\n",
    "    names = series.values\n",
    "    counter = Counter(names)\n",
    "    return counter.most_common(num_songs)\n",
    "\n",
    "determine_frequencies(df['track_name'], 10)"
   ]
  },
  {
   "cell_type": "code",
   "execution_count": 7,
   "metadata": {
    "collapsed": false
   },
   "outputs": [
    {
     "data": {
      "text/plain": [
       "[('Give Me Everything', 38),\n",
       " ('Freeway - Flux Pavilion and Kill The Noise Remix', 25),\n",
       " ('Playground [feat. Bugle & Arama]', 22),\n",
       " ('Tidal Wave', 21),\n",
       " ('With You, Friends [Long Drive]', 21),\n",
       " ('Sugar (feat. Wynter)', 20),\n",
       " ('All I Ask of You (Feat. Penny)', 20),\n",
       " (\"DJ Got Us Fallin' In Love\", 20),\n",
       " ('Feeling Good - Bassnectar Remix', 20),\n",
       " (\"Rock N' Roll [Will Take You To The Mountain]\", 19),\n",
       " ('Sleepless - Radio Edit', 19),\n",
       " ('Dead and Gone - Feat. Justin Timberlake', 19),\n",
       " ('Just Dance', 19),\n",
       " ('You Know You Like It', 19),\n",
       " ('End Credits', 19),\n",
       " ('Last Jungle', 18),\n",
       " (\"Please Don't Go\", 18),\n",
       " ('Runaway (U & I) - Kaskade Remix', 18),\n",
       " ('I Love It When You Cry (Moxoki) - Radio Edit', 18),\n",
       " ('Little Talks', 17)]"
      ]
     },
     "execution_count": 7,
     "metadata": {},
     "output_type": "execute_result"
    }
   ],
   "source": [
    "class TimeMachine:\n",
    "    \n",
    "    def __init__(self, year):\n",
    "        self.seasons = {\n",
    "            'spring': ( time.strptime('21 Mar ' + year, '%d %b %Y'),\n",
    "                      time.strptime('21 Jun ' + year, '%d %b %Y')),\n",
    "            'summer': ( time.strptime('21 Jun ' + year, '%d %b %Y'),\n",
    "                      time.strptime('23 Sep ' + year, '%d %b %Y')),\n",
    "            'fall': ( time.strptime('23 Sep ' + year, '%d %b %Y'),\n",
    "                      time.strptime('21 Dec ' + year, '%d %b %Y')),\n",
    "            'winter': ( time.strptime('21 Dec ' + year, '%d %b %Y'),\n",
    "                        time.strptime('21 Mar ' + year, '%d %b %Y'))\n",
    "        }\n",
    "        self.year = year\n",
    "        \n",
    "    def set_year(self, new_year):\n",
    "        self = self.__init__(new_year)\n",
    "        \n",
    "    def in_season(self, season, df):\n",
    "        timeslice = self.seasons[season]\n",
    "        def check_time(seconds):\n",
    "            listen_time =  time.gmtime(int(seconds))\n",
    "            return listen_time > timeslice[0] and listen_time < timeslice[1]\n",
    "        arr_time_check = np.vectorize(check_time)\n",
    "        return df[arr_time_check(df['date'])]\n",
    "    \n",
    "    def in_year(self, df):\n",
    "        date = datetime.date(int(self.year), 1, 1)\n",
    "        def check_time(seconds):\n",
    "            listen_time =  datetime.date.fromtimestamp(int(seconds))\n",
    "            return listen_time.year == date.year\n",
    "        arr_time_check = np.vectorize(check_time)\n",
    "        return df[ arr_time_check(df['date'])]\n",
    "    \n",
    "# make a timemachine to 2014, check out top artists from then\n",
    "obj = TimeMachine('2015')\n",
    "summer_df = obj.in_season('summer', df)\n",
    "determine_frequencies(summer_df['track_name'], 20)"
   ]
  },
  {
   "cell_type": "code",
   "execution_count": null,
   "metadata": {
    "collapsed": true
   },
   "outputs": [],
   "source": []
  }
 ],
 "metadata": {
  "anaconda-cloud": {},
  "kernelspec": {
   "display_name": "Python [Root]",
   "language": "python",
   "name": "Python [Root]"
  },
  "language_info": {
   "codemirror_mode": {
    "name": "ipython",
    "version": 3
   },
   "file_extension": ".py",
   "mimetype": "text/x-python",
   "name": "python",
   "nbconvert_exporter": "python",
   "pygments_lexer": "ipython3",
   "version": "3.5.2"
  }
 },
 "nbformat": 4,
 "nbformat_minor": 0
}
