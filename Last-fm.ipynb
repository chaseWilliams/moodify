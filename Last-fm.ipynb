{
 "cells": [
  {
   "cell_type": "code",
   "execution_count": 23,
   "metadata": {
    "collapsed": false
   },
   "outputs": [],
   "source": [
    "import requests as http\n",
    "import pandas as pd\n",
    "import numpy as np\n",
    "import matplotlib.pyplot as plt\n",
    "import seaborn as sns\n",
    "from collections import Counter\n",
    "import time\n",
    "import calendar\n",
    "import datetime\n",
    "api_key = 'b333a19b2c0397e8e4c1224b49b3e7cd'\n",
    "api_base = 'http://ws.audioscrobbler.com/2.0/?format=json&'\n",
    "user_name = 'dude0faw3'\n",
    "data = http.get(api_base + 'method=user.getrecenttracks&limit=200&api_key='\\\n",
    "                + api_key + '&user=' + user_name).json()"
   ]
  },
  {
   "cell_type": "code",
   "execution_count": 18,
   "metadata": {
    "collapsed": false,
    "scrolled": true
   },
   "outputs": [
    {
     "name": "stdout",
     "output_type": "stream",
     "text": [
      "Starting! There are 155 pages\n",
      "Page 25\n",
      "Page 50\n",
      "Page 75\n",
      "Page 100\n",
      "Page 125\n",
      "Page 150\n"
     ]
    },
    {
     "data": {
      "text/html": [
       "<div>\n",
       "<table border=\"1\" class=\"dataframe\">\n",
       "  <thead>\n",
       "    <tr style=\"text-align: right;\">\n",
       "      <th></th>\n",
       "      <th>track_name</th>\n",
       "      <th>artist</th>\n",
       "      <th>date</th>\n",
       "    </tr>\n",
       "  </thead>\n",
       "  <tbody>\n",
       "    <tr>\n",
       "      <th>30823</th>\n",
       "      <td>This Is What It Feels Like</td>\n",
       "      <td>Armin van Buuren</td>\n",
       "      <td>1407180582</td>\n",
       "    </tr>\n",
       "    <tr>\n",
       "      <th>30824</th>\n",
       "      <td>Ecstasy</td>\n",
       "      <td>ATB</td>\n",
       "      <td>1407180320</td>\n",
       "    </tr>\n",
       "    <tr>\n",
       "      <th>30825</th>\n",
       "      <td>Spaceman - Drown The Fish Remix</td>\n",
       "      <td>Hardwell</td>\n",
       "      <td>1407179792</td>\n",
       "    </tr>\n",
       "    <tr>\n",
       "      <th>30826</th>\n",
       "      <td>Legacy</td>\n",
       "      <td>Eminem</td>\n",
       "      <td>1407179496</td>\n",
       "    </tr>\n",
       "    <tr>\n",
       "      <th>30827</th>\n",
       "      <td>Spaceman - Drown The Fish Remix</td>\n",
       "      <td>Hardwell</td>\n",
       "      <td>1407179059</td>\n",
       "    </tr>\n",
       "  </tbody>\n",
       "</table>\n",
       "</div>"
      ],
      "text/plain": [
       "                            track_name            artist        date\n",
       "30823       This Is What It Feels Like  Armin van Buuren  1407180582\n",
       "30824                          Ecstasy               ATB  1407180320\n",
       "30825  Spaceman - Drown The Fish Remix          Hardwell  1407179792\n",
       "30826                           Legacy            Eminem  1407179496\n",
       "30827  Spaceman - Drown The Fish Remix          Hardwell  1407179059"
      ]
     },
     "execution_count": 18,
     "metadata": {},
     "output_type": "execute_result"
    }
   ],
   "source": [
    "track_data = data['recenttracks']['track']\n",
    "limit = data['recenttracks']['@attr']['totalPages']\n",
    "page = 1\n",
    "history = []\n",
    "# for nested dictionary entry requests\n",
    "class FakeNone:\n",
    "    def get(*args):\n",
    "        return FakeNone()\n",
    "# ensures that there's no key error exception\n",
    "def check_track(track):\n",
    "    arr = [track.get('name', FakeNone()),\n",
    "     track.get('artist', FakeNone()).get('#text', FakeNone()),\n",
    "      track.get('date', FakeNone()).get('uts', FakeNone())\n",
    "    ]\n",
    "    return [None if type(x) == FakeNone else x for x in arr]\n",
    "\n",
    "for track in track_data:\n",
    "    history.append(check_track(track))\n",
    "    \n",
    "print('Starting! There are ' + limit + ' pages')\n",
    "while int(data['recenttracks']['@attr']['page']) is not int(limit):\n",
    "    if page % 25 is 0:\n",
    "        print('Page %i' % page)\n",
    "    page += 1\n",
    "    data = http.get(api_base + 'method=user.getrecenttracks&limit=200&api_key=' + api_key + \\\n",
    "                    '&user=' + user_name + '&page=' + str(page)).json()\n",
    "    for track in data['recenttracks']['track']:\n",
    "        history.append(check_track(track))\n",
    "\n",
    "df = pd.DataFrame(history)\n",
    "df.columns = ['track_name', 'artist', 'date']\n",
    "df.tail()"
   ]
  },
  {
   "cell_type": "markdown",
   "metadata": {
    "collapsed": true
   },
   "source": [
    "## Goals:\n",
    "- most listened to songs/ artists (as well as during a time)\n",
    "- songs/artists you've neglected\n",
    "- most/least popular songs "
   ]
  },
  {
   "cell_type": "code",
   "execution_count": 19,
   "metadata": {
    "collapsed": false
   },
   "outputs": [
    {
     "data": {
      "text/plain": [
       "[('Playground [feat. Bugle & Arama]', 144),\n",
       " ('Cracks - Flux Pavilion Remix', 133),\n",
       " ('Give Me Everything', 129),\n",
       " ('The Hills', 127),\n",
       " ('Dum Dee Dum', 121),\n",
       " ('Legacy', 119),\n",
       " ('Alone', 119),\n",
       " ('Freeway - Flux Pavilion and Kill The Noise Remix', 111),\n",
       " ('Five Hours', 104),\n",
       " (\"'Till I Collapse\", 102)]"
      ]
     },
     "execution_count": 19,
     "metadata": {},
     "output_type": "execute_result"
    }
   ],
   "source": [
    "# determine the n-most frequently played songs from a given pandas series\n",
    "def determine_frequencies(series, num_songs, neglected=False):\n",
    "    names = series.values\n",
    "    counter = Counter(names)\n",
    "    return counter.most_common(num_songs)\n",
    "\n",
    "determine_frequencies(df['track_name'], 10)"
   ]
  },
  {
   "cell_type": "code",
   "execution_count": 30,
   "metadata": {
    "collapsed": false
   },
   "outputs": [
    {
     "data": {
      "text/plain": [
       "[('Calvin Harris', 150),\n",
       " ('Blackmill', 149),\n",
       " ('Eminem', 143),\n",
       " ('Lindsey Stirling', 107),\n",
       " ('Bassnectar', 94),\n",
       " ('OneRepublic', 89),\n",
       " ('The Glitch Mob', 78),\n",
       " ('PANTyRAiD', 75),\n",
       " ('Doctor P', 68),\n",
       " ('Flux Pavilion', 68),\n",
       " ('The Script', 64),\n",
       " ('Maroon 5', 63),\n",
       " ('Linkin Park', 63),\n",
       " ('Nero', 60),\n",
       " ('Hardwell', 60),\n",
       " ('Gemini', 56),\n",
       " ('Lifehouse', 53),\n",
       " ('Major Lazer', 50),\n",
       " ('Zedd', 49),\n",
       " ('Armin van Buuren', 46)]"
      ]
     },
     "execution_count": 30,
     "metadata": {},
     "output_type": "execute_result"
    }
   ],
   "source": [
    "class TimeMachine:\n",
    "    \n",
    "    def __init__(self, year):\n",
    "        self.seasons = {\n",
    "            'spring': ( time.strptime('21 Mar ' + year, '%d %b %Y'),\n",
    "                      time.strptime('21 Jun ' + year, '%d %b %Y')),\n",
    "            'summer': ( time.strptime('21 Jun ' + year, '%d %b %Y'),\n",
    "                      time.strptime('23 Sep ' + year, '%d %b %Y')),\n",
    "            'fall': ( time.strptime('23 Sep ' + year, '%d %b %Y'),\n",
    "                      time.strptime('21 Dec ' + year, '%d %b %Y')),\n",
    "            'winter': ( time.strptime('21 Dec ' + year, '%d %b %Y'),\n",
    "                        time.strptime('21 Mar ' + year, '%d %b %Y'))\n",
    "        }\n",
    "        self.year = year\n",
    "        \n",
    "    def set_year(self, new_year):\n",
    "        self = self.__init__(new_year)\n",
    "        \n",
    "    def in_season(self, season, df):\n",
    "        timeslice = self.seasons[season]\n",
    "        def check_time(seconds):\n",
    "            listen_time =  time.gmtime(int(seconds))\n",
    "            return listen_time > timeslice[0] and listen_time < timeslice[1]\n",
    "        arr_time_check = np.vectorize(check_time)\n",
    "        return df[arr_time_check(df['date'])]\n",
    "    \n",
    "    def in_year(self, df):\n",
    "        date = datetime.date(int(self.year), 1, 1)\n",
    "        def check_time(seconds):\n",
    "            listen_time =  datetime.date.fromtimestamp(int(seconds))\n",
    "            return listen_time.year == date.year\n",
    "        arr_time_check = np.vectorize(check_time)\n",
    "        return df[ arr_time_check(df['date'])]\n",
    "    \n",
    "# make a timemachine to 2014, check out top artists from then\n",
    "obj = TimeMachine('2014')\n",
    "df_2015 = obj.in_year(df)\n",
    "determine_frequencies(df_2015['artist'], 20)"
   ]
  },
  {
   "cell_type": "code",
   "execution_count": null,
   "metadata": {
    "collapsed": true
   },
   "outputs": [],
   "source": []
  }
 ],
 "metadata": {
  "anaconda-cloud": {},
  "kernelspec": {
   "display_name": "Python [Root]",
   "language": "python",
   "name": "Python [Root]"
  },
  "language_info": {
   "codemirror_mode": {
    "name": "ipython",
    "version": 3
   },
   "file_extension": ".py",
   "mimetype": "text/x-python",
   "name": "python",
   "nbconvert_exporter": "python",
   "pygments_lexer": "ipython3",
   "version": "3.5.2"
  }
 },
 "nbformat": 4,
 "nbformat_minor": 0
}
